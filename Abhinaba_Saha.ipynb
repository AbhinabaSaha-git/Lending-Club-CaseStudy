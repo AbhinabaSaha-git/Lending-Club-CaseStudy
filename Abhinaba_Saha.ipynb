{
 "cells": [
  {
   "cell_type": "code",
   "execution_count": 105,
   "id": "53f57a08",
   "metadata": {},
   "outputs": [],
   "source": [
    "#Load the libraries\n",
    "import pandas as pd #To work with dataset\n",
    "import numpy as np #Math library\n",
    "import seaborn as sns #Graph library that use matplot in background\n",
    "import matplotlib.pyplot as plt #to plot some parameters in seaborn"
   ]
  },
  {
   "cell_type": "code",
   "execution_count": 106,
   "id": "2f7f3148",
   "metadata": {},
   "outputs": [],
   "source": [
    "import warnings\n",
    "warnings.filterwarnings(\"ignore\") #This is to ignore the warning messages that appears on notebook"
   ]
  },
  {
   "cell_type": "code",
   "execution_count": 107,
   "id": "8b6702b4",
   "metadata": {},
   "outputs": [],
   "source": [
    "# uploading loan file  \n",
    "# used data dictionary for understanding of column names.\n",
    "\n",
    "df = pd.read_csv(\"D:/IIIT-B/loan.csv\")"
   ]
  },
  {
   "cell_type": "code",
   "execution_count": 108,
   "id": "206864c1",
   "metadata": {},
   "outputs": [],
   "source": [
    "#Renaming column names for better understanding\n",
    "\n",
    "df.rename(columns={'installment':'monthly_installment','emp_title':'employer_name','emp_length':'employment_duration','annual_inc':'annual_income','issue_d':'issued_date','desc':'description','title':'loan_kind','delinq_2yrs':'delinquency_2','earliest_cr_line':'first_loan','mths_since_last_record':'mths_since_last_public_record','open_acc':'open_Credit_lines','pub_rec':'derogatory_pub_rec','revol_bal':'total_credit_revolve_bal','revol_util':'revol_utilization_rate','out_prncp':'outstanding_principle','total_pymnt':'total_pymnt_received','total_rec_prncp':'total_Principle_received','total_rec_int':'total_interest_received','total_rec_late_fee':'total_latefees_received','recoveries':'gross_recovery','last_pymnt_d':'last_pymnt_date','next_pymnt_d':'next_pymnt_date'},inplace=True)"
   ]
  },
  {
   "cell_type": "code",
   "execution_count": 109,
   "id": "4d7b9310",
   "metadata": {},
   "outputs": [
    {
     "name": "stdout",
     "output_type": "stream",
     "text": [
      "<class 'pandas.core.frame.DataFrame'>\n",
      "RangeIndex: 39717 entries, 0 to 39716\n",
      "Columns: 111 entries, id to total_il_high_credit_limit\n",
      "dtypes: float64(74), int64(13), object(24)\n",
      "memory usage: 33.6+ MB\n"
     ]
    }
   ],
   "source": [
    "#checking what kind of data types are available in the dataset\n",
    "\n",
    "df.info()"
   ]
  },
  {
   "cell_type": "code",
   "execution_count": 110,
   "id": "02944b00",
   "metadata": {},
   "outputs": [
    {
     "data": {
      "text/plain": [
       "(39717, 111)"
      ]
     },
     "execution_count": 110,
     "metadata": {},
     "output_type": "execute_result"
    }
   ],
   "source": [
    "# Looking at the data we see there are customers who has colsed their lones or customers who defaulted. \n",
    "\n",
    "# investors can lose a lot money affecting the business if providing amount to default prone customers.\n",
    "\n",
    "# hence going through data cleaning, data analysis(univariate,bivariate and multivariate) to provide decent insights. \n",
    "\n",
    "\n",
    "#checking the column and row values (shape) of the data\n",
    "df.shape"
   ]
  },
  {
   "cell_type": "markdown",
   "id": "12d455d3",
   "metadata": {},
   "source": [
    "## Dropping unnecessary columns"
   ]
  },
  {
   "cell_type": "code",
   "execution_count": 111,
   "id": "16500075",
   "metadata": {},
   "outputs": [],
   "source": [
    "# Dropping all columns with all values null\n",
    "\n",
    "df1 = df.dropna(axis=1,how=\"all\")"
   ]
  },
  {
   "cell_type": "markdown",
   "id": "452c32ae",
   "metadata": {},
   "source": [
    "### checking which columns can be further deleted"
   ]
  },
  {
   "cell_type": "code",
   "execution_count": 112,
   "id": "8810c267",
   "metadata": {},
   "outputs": [
    {
     "data": {
      "text/plain": [
       "0.0    37339\n",
       "1.0     1674\n",
       "2.0        7\n",
       "Name: pub_rec_bankruptcies, dtype: int64"
      ]
     },
     "execution_count": 112,
     "metadata": {},
     "output_type": "execute_result"
    }
   ],
   "source": [
    "df.pub_rec_bankruptcies.value_counts()"
   ]
  },
  {
   "cell_type": "code",
   "execution_count": 113,
   "id": "731f38b1",
   "metadata": {},
   "outputs": [
    {
     "data": {
      "text/plain": [
       "0    39717\n",
       "Name: acc_now_delinq, dtype: int64"
      ]
     },
     "execution_count": 113,
     "metadata": {},
     "output_type": "execute_result"
    }
   ],
   "source": [
    "df.acc_now_delinq.value_counts()"
   ]
  },
  {
   "cell_type": "code",
   "execution_count": 114,
   "id": "e6d36788",
   "metadata": {},
   "outputs": [
    {
     "data": {
      "text/plain": [
       "0.0    39661\n",
       "Name: chargeoff_within_12_mths, dtype: int64"
      ]
     },
     "execution_count": 114,
     "metadata": {},
     "output_type": "execute_result"
    }
   ],
   "source": [
    "df.chargeoff_within_12_mths.value_counts()"
   ]
  },
  {
   "cell_type": "code",
   "execution_count": 115,
   "id": "620a2f60",
   "metadata": {},
   "outputs": [
    {
     "data": {
      "text/plain": [
       "0    39717\n",
       "Name: delinq_amnt, dtype: int64"
      ]
     },
     "execution_count": 115,
     "metadata": {},
     "output_type": "execute_result"
    }
   ],
   "source": [
    "df.delinq_amnt.value_counts()"
   ]
  },
  {
   "cell_type": "code",
   "execution_count": 116,
   "id": "1e9cbdcf",
   "metadata": {},
   "outputs": [
    {
     "data": {
      "text/plain": [
       "0.0    37339\n",
       "1.0     1674\n",
       "2.0        7\n",
       "Name: pub_rec_bankruptcies, dtype: int64"
      ]
     },
     "execution_count": 116,
     "metadata": {},
     "output_type": "execute_result"
    }
   ],
   "source": [
    "df.pub_rec_bankruptcies.value_counts()"
   ]
  },
  {
   "cell_type": "code",
   "execution_count": 117,
   "id": "9864bd26",
   "metadata": {},
   "outputs": [
    {
     "data": {
      "text/plain": [
       "0.0    39678\n",
       "Name: tax_liens, dtype: int64"
      ]
     },
     "execution_count": 117,
     "metadata": {},
     "output_type": "execute_result"
    }
   ],
   "source": [
    "df.tax_liens.value_counts()"
   ]
  },
  {
   "cell_type": "markdown",
   "id": "0bca4640",
   "metadata": {},
   "source": [
    "### obeservation :\n",
    "       acc_now_delinq, chargeoff_within_12_mths, delinq_amnt, tax_liens has null or 0 values filled.\n",
    "       Hence dropping off these columns \n",
    "    "
   ]
  },
  {
   "cell_type": "markdown",
   "id": "74f6bb96",
   "metadata": {},
   "source": [
    "### Fixung missing value columns \n"
   ]
  },
  {
   "cell_type": "code",
   "execution_count": 118,
   "id": "02be5e67",
   "metadata": {},
   "outputs": [],
   "source": [
    "#Dropping application_type column as it has only value INDIVIDUAL\n",
    "\n",
    "df1 = df1.drop(['application_type'],axis=1)"
   ]
  },
  {
   "cell_type": "code",
   "execution_count": 119,
   "id": "2052d94c",
   "metadata": {},
   "outputs": [],
   "source": [
    "# Dropping acc_now_delinq , chargeoff_within_12_mths, delinq_amnt, tax_liens,policy_code column \n",
    "\n",
    "df1 = df1.drop([\"acc_now_delinq\"],axis=1)\n",
    "\n",
    "df1 = df1.drop([\"chargeoff_within_12_mths\"],axis=1)\n",
    "\n",
    "df1 = df1.drop([\"delinq_amnt\"],axis=1)\n",
    "\n",
    "df1 = df1.drop([\"tax_liens\"],axis=1)"
   ]
  },
  {
   "cell_type": "code",
   "execution_count": 120,
   "id": "953165b5",
   "metadata": {},
   "outputs": [],
   "source": [
    "# Dropping delinquency_2 column \n",
    "\n",
    "df1 = df1.drop([\"delinquency_2\"],axis=1)"
   ]
  },
  {
   "cell_type": "code",
   "execution_count": 121,
   "id": "2af3876c",
   "metadata": {},
   "outputs": [],
   "source": [
    "# Dropping inq_last_6mths column \n",
    "\n",
    "df1 = df1.drop([\"inq_last_6mths\"],axis=1)"
   ]
  },
  {
   "cell_type": "code",
   "execution_count": 122,
   "id": "b215f1f7",
   "metadata": {},
   "outputs": [],
   "source": [
    "# deleting policy code column as no significant impact on analysis as single value only\n",
    "df1 = df1.drop([\"policy_code\"],axis=1)\n"
   ]
  },
  {
   "cell_type": "code",
   "execution_count": 123,
   "id": "4d5ab56d",
   "metadata": {},
   "outputs": [],
   "source": [
    "# deleting pymnt_plan column as no significant impact on analysis as single value only\n",
    "\n",
    "df1 = df1.drop([\"pymnt_plan\"],axis=1)"
   ]
  },
  {
   "cell_type": "code",
   "execution_count": 124,
   "id": "7ab82296",
   "metadata": {},
   "outputs": [],
   "source": [
    "# deleting employer_name column as no significant impact on analysis as single value only\n",
    "df1 = df1.drop([\"employer_name\"],axis=1)"
   ]
  },
  {
   "cell_type": "code",
   "execution_count": 125,
   "id": "4d652889",
   "metadata": {},
   "outputs": [],
   "source": [
    "# deleting initial_list_status column as no significant impact on analysis as single value only\n",
    "df1 = df1.drop([\"initial_list_status\"],axis=1)\n"
   ]
  },
  {
   "cell_type": "markdown",
   "id": "d31a31cf",
   "metadata": {},
   "source": [
    "### checking which columns has further null values "
   ]
  },
  {
   "cell_type": "code",
   "execution_count": 126,
   "id": "f716c7cb",
   "metadata": {},
   "outputs": [
    {
     "data": {
      "text/plain": [
       "1075"
      ]
     },
     "execution_count": 126,
     "metadata": {},
     "output_type": "execute_result"
    }
   ],
   "source": [
    "df1.employment_duration.isnull().sum()"
   ]
  },
  {
   "cell_type": "code",
   "execution_count": 127,
   "id": "4dfef24c",
   "metadata": {},
   "outputs": [
    {
     "data": {
      "text/plain": [
       "11"
      ]
     },
     "execution_count": 127,
     "metadata": {},
     "output_type": "execute_result"
    }
   ],
   "source": [
    "df1.loan_kind.isnull().sum()"
   ]
  },
  {
   "cell_type": "code",
   "execution_count": 128,
   "id": "4ef55f13",
   "metadata": {},
   "outputs": [
    {
     "data": {
      "text/plain": [
       "12940"
      ]
     },
     "execution_count": 128,
     "metadata": {},
     "output_type": "execute_result"
    }
   ],
   "source": [
    "df1.description.isnull().sum()"
   ]
  },
  {
   "cell_type": "markdown",
   "id": "b09a447a",
   "metadata": {},
   "source": [
    "### Observation:\n",
    "    employer_name,employment_duration,loan_kind,employer_name has still null values however its less than 30% hence not imputing data,neither deleting column as off now"
   ]
  },
  {
   "cell_type": "markdown",
   "id": "753f831e",
   "metadata": {},
   "source": [
    "### Standardising Values"
   ]
  },
  {
   "cell_type": "code",
   "execution_count": 129,
   "id": "90d86a8a",
   "metadata": {},
   "outputs": [],
   "source": [
    "# changed df.term from string(' 36 months') to int 36\n",
    "\n",
    "df1.term = df1.term.apply(lambda a : int(a[1:-7]))"
   ]
  },
  {
   "cell_type": "code",
   "execution_count": 130,
   "id": "2eb54c87",
   "metadata": {},
   "outputs": [],
   "source": [
    "# changed df.int_rate from string(' 10.65%') to float 10.65\n",
    "\n",
    "df1.int_rate = df1.int_rate.apply(lambda a : float(a[:-1]))"
   ]
  },
  {
   "cell_type": "code",
   "execution_count": null,
   "id": "9b80c1fe",
   "metadata": {},
   "outputs": [],
   "source": []
  },
  {
   "cell_type": "code",
   "execution_count": 131,
   "id": "08026b2e",
   "metadata": {},
   "outputs": [
    {
     "data": {
      "text/plain": [
       "dtype('float64')"
      ]
     },
     "execution_count": 131,
     "metadata": {},
     "output_type": "execute_result"
    }
   ],
   "source": [
    "# removed \"%\" from all values of \"revol_utilization_rate\" column and changed to float with new column revol_utilization_rate_2\n",
    "\n",
    "def convert_to_float(x):\n",
    "  if x:\n",
    "    y = str(x).split('%')[0]\n",
    "    return float(y)\n",
    "  else:\n",
    "    pass\n",
    "df1['revol_utilization_rate_2'] = df1['revol_utilization_rate'].apply(convert_to_float)\n",
    "df1['revol_utilization_rate_2'].dtypes\n"
   ]
  },
  {
   "cell_type": "code",
   "execution_count": null,
   "id": "c1f15af2",
   "metadata": {},
   "outputs": [],
   "source": []
  },
  {
   "cell_type": "markdown",
   "id": "b907f3e3",
   "metadata": {},
   "source": [
    "### Dropping customer behavioral data not present at loan approval"
   ]
  },
  {
   "cell_type": "code",
   "execution_count": 132,
   "id": "0b58be08",
   "metadata": {
    "scrolled": false
   },
   "outputs": [],
   "source": [
    "# the customer behavioral data was not present at the time of loan application,\n",
    "# thus they cant be used as a predictors for loan approval.\n",
    "# hence deleting mentioned columns :- \"mths_since_last_delinq\",\"total_acc\",\"total_credit_revolve_bal\",\"outstanding_principle\",\"out_prncp_inv\",\"total_pymnt_received\",\"total_pymnt_inv\",\"total_Principle_received \",\"total_interest_received\",\"total_latefees_received\",\"gross_recovery\",\"collection_recovery_fee\",\"last_pymnt_date\",\"last_pymnt_amnt\",\"next_pymnt_date\",\"last_credit_pull_d\"\n",
    "\n",
    "cust_beh = [\"mths_since_last_delinq\",\"total_acc\",\"total_credit_revolve_bal\",\"outstanding_principle\",\"out_prncp_inv\",\"total_pymnt_received\",\"total_pymnt_inv\",\"total_Principle_received\",\"total_interest_received\",\"total_latefees_received\",\"gross_recovery\",\"collection_recovery_fee\",\"last_pymnt_date\",\"last_pymnt_amnt\",\"next_pymnt_date\",\"last_credit_pull_d\"]\n",
    "\n",
    "for i in cust_beh:\n",
    "    df1 = df1.drop([i],axis=1)\n"
   ]
  },
  {
   "cell_type": "code",
   "execution_count": 133,
   "id": "11684ed8",
   "metadata": {
    "scrolled": true
   },
   "outputs": [
    {
     "data": {
      "text/plain": [
       "(39717, 31)"
      ]
     },
     "execution_count": 133,
     "metadata": {},
     "output_type": "execute_result"
    }
   ],
   "source": [
    "df1.shape"
   ]
  },
  {
   "cell_type": "markdown",
   "id": "2870a8a9",
   "metadata": {},
   "source": [
    "## Sanity Check"
   ]
  },
  {
   "cell_type": "code",
   "execution_count": 134,
   "id": "2562c899",
   "metadata": {},
   "outputs": [
    {
     "data": {
      "text/html": [
       "<div>\n",
       "<style scoped>\n",
       "    .dataframe tbody tr th:only-of-type {\n",
       "        vertical-align: middle;\n",
       "    }\n",
       "\n",
       "    .dataframe tbody tr th {\n",
       "        vertical-align: top;\n",
       "    }\n",
       "\n",
       "    .dataframe thead th {\n",
       "        text-align: right;\n",
       "    }\n",
       "</style>\n",
       "<table border=\"1\" class=\"dataframe\">\n",
       "  <thead>\n",
       "    <tr style=\"text-align: right;\">\n",
       "      <th></th>\n",
       "      <th>id</th>\n",
       "      <th>member_id</th>\n",
       "      <th>loan_amnt</th>\n",
       "      <th>funded_amnt</th>\n",
       "      <th>funded_amnt_inv</th>\n",
       "      <th>term</th>\n",
       "      <th>int_rate</th>\n",
       "      <th>monthly_installment</th>\n",
       "      <th>grade</th>\n",
       "      <th>sub_grade</th>\n",
       "      <th>...</th>\n",
       "      <th>addr_state</th>\n",
       "      <th>dti</th>\n",
       "      <th>first_loan</th>\n",
       "      <th>mths_since_last_public_record</th>\n",
       "      <th>open_Credit_lines</th>\n",
       "      <th>derogatory_pub_rec</th>\n",
       "      <th>revol_utilization_rate</th>\n",
       "      <th>collections_12_mths_ex_med</th>\n",
       "      <th>pub_rec_bankruptcies</th>\n",
       "      <th>revol_utilization_rate_2</th>\n",
       "    </tr>\n",
       "  </thead>\n",
       "  <tbody>\n",
       "  </tbody>\n",
       "</table>\n",
       "<p>0 rows × 31 columns</p>\n",
       "</div>"
      ],
      "text/plain": [
       "Empty DataFrame\n",
       "Columns: [id, member_id, loan_amnt, funded_amnt, funded_amnt_inv, term, int_rate, monthly_installment, grade, sub_grade, employment_duration, home_ownership, annual_income, verification_status, issued_date, loan_status, url, description, purpose, loan_kind, zip_code, addr_state, dti, first_loan, mths_since_last_public_record, open_Credit_lines, derogatory_pub_rec, revol_utilization_rate, collections_12_mths_ex_med, pub_rec_bankruptcies, revol_utilization_rate_2]\n",
       "Index: []\n",
       "\n",
       "[0 rows x 31 columns]"
      ]
     },
     "execution_count": 134,
     "metadata": {},
     "output_type": "execute_result"
    }
   ],
   "source": [
    "# 1. funded amont by ivestors should not be more than loan amount requested: \n",
    "\n",
    "df1[df1.loan_amnt < df1.funded_amnt_inv]"
   ]
  },
  {
   "cell_type": "code",
   "execution_count": 135,
   "id": "609d6d3a",
   "metadata": {},
   "outputs": [
    {
     "data": {
      "text/html": [
       "<div>\n",
       "<style scoped>\n",
       "    .dataframe tbody tr th:only-of-type {\n",
       "        vertical-align: middle;\n",
       "    }\n",
       "\n",
       "    .dataframe tbody tr th {\n",
       "        vertical-align: top;\n",
       "    }\n",
       "\n",
       "    .dataframe thead th {\n",
       "        text-align: right;\n",
       "    }\n",
       "</style>\n",
       "<table border=\"1\" class=\"dataframe\">\n",
       "  <thead>\n",
       "    <tr style=\"text-align: right;\">\n",
       "      <th></th>\n",
       "      <th>id</th>\n",
       "      <th>member_id</th>\n",
       "      <th>loan_amnt</th>\n",
       "      <th>funded_amnt</th>\n",
       "      <th>funded_amnt_inv</th>\n",
       "      <th>term</th>\n",
       "      <th>int_rate</th>\n",
       "      <th>monthly_installment</th>\n",
       "      <th>grade</th>\n",
       "      <th>sub_grade</th>\n",
       "      <th>...</th>\n",
       "      <th>addr_state</th>\n",
       "      <th>dti</th>\n",
       "      <th>first_loan</th>\n",
       "      <th>mths_since_last_public_record</th>\n",
       "      <th>open_Credit_lines</th>\n",
       "      <th>derogatory_pub_rec</th>\n",
       "      <th>revol_utilization_rate</th>\n",
       "      <th>collections_12_mths_ex_med</th>\n",
       "      <th>pub_rec_bankruptcies</th>\n",
       "      <th>revol_utilization_rate_2</th>\n",
       "    </tr>\n",
       "  </thead>\n",
       "  <tbody>\n",
       "  </tbody>\n",
       "</table>\n",
       "<p>0 rows × 31 columns</p>\n",
       "</div>"
      ],
      "text/plain": [
       "Empty DataFrame\n",
       "Columns: [id, member_id, loan_amnt, funded_amnt, funded_amnt_inv, term, int_rate, monthly_installment, grade, sub_grade, employment_duration, home_ownership, annual_income, verification_status, issued_date, loan_status, url, description, purpose, loan_kind, zip_code, addr_state, dti, first_loan, mths_since_last_public_record, open_Credit_lines, derogatory_pub_rec, revol_utilization_rate, collections_12_mths_ex_med, pub_rec_bankruptcies, revol_utilization_rate_2]\n",
       "Index: []\n",
       "\n",
       "[0 rows x 31 columns]"
      ]
     },
     "execution_count": 135,
     "metadata": {},
     "output_type": "execute_result"
    }
   ],
   "source": [
    "# term is no other than 36 months or 60 months\n",
    "\n",
    "df1[~((df1.term == 36) | (df1.term == 60))]"
   ]
  },
  {
   "cell_type": "markdown",
   "id": "b022f347",
   "metadata": {},
   "source": [
    "### Creating Derived Columns"
   ]
  },
  {
   "cell_type": "code",
   "execution_count": 136,
   "id": "45888f96",
   "metadata": {},
   "outputs": [],
   "source": [
    "#Creating derived column from issues_date column as the year and month might be required \n",
    "\n",
    "df1[\"issued_year\"] = pd.to_datetime(df1.issued_date.str.upper(), format='%b-%y',yearfirst=False).dt.year\n",
    "\n",
    "df1[\"issued_month\"] = pd.to_datetime(df1.issued_date.str.upper(), format='%b-%y',yearfirst=False).dt.month"
   ]
  },
  {
   "cell_type": "code",
   "execution_count": 137,
   "id": "a0249c0c",
   "metadata": {},
   "outputs": [],
   "source": [
    "#Creating derived column from first_loan column as the year and month might be required \n",
    "\n",
    "\n",
    "df1[\"first_loan_month\"] = pd.to_datetime(df1.first_loan.str.upper(), format='%b-%y',yearfirst=False).dt.month\n",
    "df1[\"first_loan_year\"] = pd.to_datetime(df1.first_loan.str.upper(), format='%b-%y',yearfirst=False).dt.year\n"
   ]
  },
  {
   "cell_type": "code",
   "execution_count": 138,
   "id": "3b6be7f0",
   "metadata": {},
   "outputs": [
    {
     "data": {
      "text/plain": [
       "id                               39717\n",
       "member_id                        39717\n",
       "loan_amnt                          885\n",
       "funded_amnt                       1041\n",
       "funded_amnt_inv                   8205\n",
       "term                                 2\n",
       "int_rate                           371\n",
       "monthly_installment              15383\n",
       "grade                                7\n",
       "sub_grade                           35\n",
       "employment_duration                 11\n",
       "home_ownership                       5\n",
       "annual_income                     5318\n",
       "verification_status                  3\n",
       "issued_date                         55\n",
       "loan_status                          3\n",
       "url                              39717\n",
       "description                      26527\n",
       "purpose                             14\n",
       "loan_kind                        19615\n",
       "zip_code                           823\n",
       "addr_state                          50\n",
       "dti                               2868\n",
       "first_loan                         526\n",
       "mths_since_last_public_record      111\n",
       "open_Credit_lines                   40\n",
       "derogatory_pub_rec                   5\n",
       "revol_utilization_rate            1089\n",
       "collections_12_mths_ex_med           1\n",
       "pub_rec_bankruptcies                 3\n",
       "revol_utilization_rate_2          1089\n",
       "issued_year                          5\n",
       "issued_month                        12\n",
       "first_loan_month                    12\n",
       "first_loan_year                     53\n",
       "dtype: int64"
      ]
     },
     "execution_count": 138,
     "metadata": {},
     "output_type": "execute_result"
    }
   ],
   "source": [
    "#checking unique column values in dataframe \n",
    "df1.nunique()"
   ]
  },
  {
   "cell_type": "markdown",
   "id": "a1d5a301",
   "metadata": {},
   "source": [
    "## deleting all row having 'current' in loan_status column"
   ]
  },
  {
   "cell_type": "code",
   "execution_count": 139,
   "id": "619969b6",
   "metadata": {},
   "outputs": [],
   "source": [
    "# deleting 'current' data from loan_status column as we only need to analyse  Fully Paid and Charged Off as per business need\n",
    "\n",
    "\n",
    "df1 = df1[(df1.loan_status == \"Fully Paid\") | (df1.loan_status == \"Charged Off\")]"
   ]
  },
  {
   "cell_type": "code",
   "execution_count": 140,
   "id": "d7905c1b",
   "metadata": {},
   "outputs": [],
   "source": [
    "df1.to_csv(\"checklist2.csv\")"
   ]
  },
  {
   "cell_type": "code",
   "execution_count": 141,
   "id": "08029598",
   "metadata": {
    "scrolled": false
   },
   "outputs": [
    {
     "data": {
      "text/plain": [
       "Index(['10+ years', '< 1 year', '2 years', '3 years', '4 years', '5 years',\n",
       "       '1 year', '6 years', '7 years', '8 years', '9 years'],\n",
       "      dtype='object')"
      ]
     },
     "execution_count": 141,
     "metadata": {},
     "output_type": "execute_result"
    }
   ],
   "source": [
    "df1.employment_duration.value_counts().index"
   ]
  },
  {
   "cell_type": "markdown",
   "id": "42eaebfd",
   "metadata": {},
   "source": [
    "### creating a derived column emp_dur from \"employment_duration\" for ordered categorical values from that column "
   ]
  },
  {
   "cell_type": "code",
   "execution_count": 142,
   "id": "afb2286f",
   "metadata": {},
   "outputs": [],
   "source": [
    "# creating a derived column emp_dur from \"employment_duration\" for ordered categorical values from that column \n",
    "\n",
    "emp_dur = {'<1 years':1,'1 years':2,'2 years':3,'3 years':4,'4 years':5,'5 years':6,'6 years':7,'7 years':8,'8 years':9,'9 years':10,'10+ years':11}\n",
    "def employment_dur(x):\n",
    "    y = None\n",
    "    for mn,val in emp_dur.items():\n",
    "        if x == mn:\n",
    "            y = emp_dur[mn]\n",
    "        if y:\n",
    "          return int(y)\n",
    "        else:\n",
    "          pass\n",
    "\n",
    "df1['emp_dur'] = df1['employment_duration'].apply(employment_dur)"
   ]
  },
  {
   "cell_type": "code",
   "execution_count": 143,
   "id": "4a19d31a",
   "metadata": {},
   "outputs": [
    {
     "data": {
      "text/plain": [
       "id                                 int64\n",
       "member_id                          int64\n",
       "loan_amnt                          int64\n",
       "funded_amnt                        int64\n",
       "funded_amnt_inv                  float64\n",
       "term                               int64\n",
       "int_rate                         float64\n",
       "monthly_installment              float64\n",
       "grade                             object\n",
       "sub_grade                         object\n",
       "employment_duration               object\n",
       "home_ownership                    object\n",
       "annual_income                    float64\n",
       "verification_status               object\n",
       "issued_date                       object\n",
       "loan_status                       object\n",
       "url                               object\n",
       "description                       object\n",
       "purpose                           object\n",
       "loan_kind                         object\n",
       "zip_code                          object\n",
       "addr_state                        object\n",
       "dti                              float64\n",
       "first_loan                        object\n",
       "mths_since_last_public_record    float64\n",
       "open_Credit_lines                  int64\n",
       "derogatory_pub_rec                 int64\n",
       "revol_utilization_rate            object\n",
       "collections_12_mths_ex_med       float64\n",
       "pub_rec_bankruptcies             float64\n",
       "revol_utilization_rate_2         float64\n",
       "issued_year                        int64\n",
       "issued_month                       int64\n",
       "first_loan_month                   int64\n",
       "first_loan_year                    int64\n",
       "emp_dur                          float64\n",
       "dtype: object"
      ]
     },
     "execution_count": 143,
     "metadata": {},
     "output_type": "execute_result"
    }
   ],
   "source": [
    "df1.dtypes"
   ]
  },
  {
   "cell_type": "markdown",
   "id": "733349bc",
   "metadata": {},
   "source": [
    "### creating two lists with loan characteristics: loan_char and demographic values : demographic  "
   ]
  },
  {
   "cell_type": "code",
   "execution_count": 144,
   "id": "e13dc32c",
   "metadata": {},
   "outputs": [],
   "source": [
    "loan_char = ['id', 'member_id', 'loan_amnt', 'funded_amnt', 'funded_amnt_inv','term', 'int_rate','verification_status','loan_status','purpose','loan_kind', 'zip_code','addr_state'\n",
    "             ,'dti','mths_since_last_public_record','open_Credit_lines','derogatory_pub_rec','revol_utilization_rate','pub_rec_bankruptcies','emp_dur']\n",
    "\n",
    "demographic = ['employment_duration', 'home_ownership', 'annual_income']"
   ]
  },
  {
   "cell_type": "markdown",
   "id": "1b371bc6",
   "metadata": {},
   "source": [
    "### creating different list for continuius variables and categorical variables \n",
    "\n",
    "#### (cont for continous and cat_col for categorical columns)"
   ]
  },
  {
   "cell_type": "code",
   "execution_count": 145,
   "id": "827ab02b",
   "metadata": {},
   "outputs": [],
   "source": [
    "cont = [\"loan_amnt\",\"funded_amnt_inv\",\"int_rate\",\"monthly_installment\",\"annual_income\",\"funded_amnt\",\"revol_utilization_rate\",\"dti\",\"annual_income\",\"monthly_installment\",\"int_rate\"]\n",
    "\n",
    "cat_col = [\"employment_duration\",\"home_ownership\",\"term\",\"verification_status\",\"loan_status\",\"description\",\"issued_year\",\"grade\",\"emp_dur\",\"purpose\",\"addr_state\",\"zip_code\"]"
   ]
  },
  {
   "cell_type": "code",
   "execution_count": 146,
   "id": "6b2ed1d8",
   "metadata": {},
   "outputs": [],
   "source": [
    "# Saving a copy\n",
    "\n",
    "df1.to_csv(\"checklist.csv\")"
   ]
  },
  {
   "cell_type": "markdown",
   "id": "61a7a10f",
   "metadata": {},
   "source": [
    "# Binning "
   ]
  },
  {
   "cell_type": "markdown",
   "id": "66d68577",
   "metadata": {},
   "source": [
    "### binning cont variable int_rate into 5 categorical values \"VL_int\",\"L_int\",\"M_int\",\"H_int\",\"VH_int\" ###\n",
    "\n",
    "#####      and created a new column  int_rate_Bucket"
   ]
  },
  {
   "cell_type": "code",
   "execution_count": 147,
   "id": "1070f1d2",
   "metadata": {},
   "outputs": [],
   "source": [
    "df1['int_rate_Bucket'] = pd.qcut(df1.int_rate, [0, 0.2, 0.4, 0.6, 0.8, 1], [\"VL_int\",\"L_int\",\"M_int\",\"H_int\",\"VH_int\"])"
   ]
  },
  {
   "cell_type": "markdown",
   "id": "64c98f89",
   "metadata": {},
   "source": [
    "### binning cont variable annual_income into 10 categorical values  ###     \n",
    "##### VL_income_1\",\"VL_income_2\",\"L_income_1\",\"L_income_2\",\"M_income_1\",\"M_income_2\",\"H_income_1\",\"H_income_2\",\"VH_income_1\",\"VH_income_2\", and created new column annual_income_bucket\n"
   ]
  },
  {
   "cell_type": "code",
   "execution_count": 148,
   "id": "95ac9847",
   "metadata": {
    "scrolled": true
   },
   "outputs": [],
   "source": [
    "df1['annual_income_bucket'] = pd.qcut(df1.annual_income, [0, 0.1, 0.2, 0.3, 0.4, 0.5, 0.6, 0.7, 0.8, 0.9, 1], \n",
    "                               [\"VL_income_1\",\"VL_income_2\",\"L_income_1\",\"L_income_2\",\"M_income_1\",\"M_income_2\",\"H_income_1\",\"H_income_2\",\"VH_income_1\",\"VH_income_2\"])"
   ]
  },
  {
   "cell_type": "markdown",
   "id": "7e609d57",
   "metadata": {},
   "source": [
    "### binning cont variable funded_amnt_inv_bucket into 10 categorical values ###\n",
    "\n",
    "##### \"VL_funded\",\"L_funded\",\"M_funded\",\"H_funded\",\"VH_funded\""
   ]
  },
  {
   "cell_type": "code",
   "execution_count": 149,
   "id": "13499f5d",
   "metadata": {
    "scrolled": true
   },
   "outputs": [],
   "source": [
    "df1[\"funded_amnt_inv_bucket\"] = pd.qcut(df1.funded_amnt_inv, [0, 0.2, 0.4, 0.6, 0.8, 1], [\"VL_funded\",\"L_funded\",\"M_funded\",\"H_funded\",\"VH_funded\"])"
   ]
  },
  {
   "cell_type": "markdown",
   "id": "28531f3d",
   "metadata": {},
   "source": [
    "### binning cont variable dti into 5 categorical values ###\n",
    "##### V\"VL_dti\",\"L_dti\",\"M_dti\",\"H_dti\",\"VH_dti\", and created new column dti_bucket"
   ]
  },
  {
   "cell_type": "code",
   "execution_count": 150,
   "id": "e478c00d",
   "metadata": {},
   "outputs": [],
   "source": [
    "\n",
    "df1[\"dti_bucket\"] = pd.qcut(df1.dti, [0, 0.2, 0.4, 0.6, 0.8, 1], [\"VL_dti\",\"L_dti\",\"M_dti\",\"H_dti\",\"VH_dti\"])"
   ]
  },
  {
   "cell_type": "code",
   "execution_count": null,
   "id": "7b08d9e7",
   "metadata": {},
   "outputs": [],
   "source": []
  },
  {
   "cell_type": "markdown",
   "id": "d3c5ef62",
   "metadata": {},
   "source": [
    "### Distribution of annual income of all applicants"
   ]
  },
  {
   "cell_type": "code",
   "execution_count": 151,
   "id": "c25f5652",
   "metadata": {},
   "outputs": [
    {
     "data": {
      "image/png": "[encoded data removed]",
      "text/plain": [
       "<Figure size 432x288 with 1 Axes>"
      ]
     },
     "metadata": {
      "needs_background": "light"
     },
     "output_type": "display_data"
    }
   ],
   "source": [
    "sns.boxplot(df1.annual_income)\n",
    "\n",
    "plt.show()"
   ]
  },
  {
   "cell_type": "code",
   "execution_count": 152,
   "id": "b6a9064f",
   "metadata": {},
   "outputs": [
    {
     "data": {
      "text/plain": [
       "count    3.857700e+04\n",
       "mean     6.877797e+04\n",
       "std      6.421868e+04\n",
       "min      4.000000e+03\n",
       "25%      4.000000e+04\n",
       "50%      5.886800e+04\n",
       "75%      8.200000e+04\n",
       "max      6.000000e+06\n",
       "Name: annual_income, dtype: float64"
      ]
     },
     "execution_count": 152,
     "metadata": {},
     "output_type": "execute_result"
    }
   ],
   "source": [
    "df1.annual_income.describe()"
   ]
  },
  {
   "cell_type": "code",
   "execution_count": 153,
   "id": "ce88df17",
   "metadata": {
    "scrolled": true
   },
   "outputs": [
    {
     "data": {
      "text/plain": [
       "58868.0"
      ]
     },
     "execution_count": 153,
     "metadata": {},
     "output_type": "execute_result"
    }
   ],
   "source": [
    "np.percentile(df1.annual_income,50)"
   ]
  },
  {
   "cell_type": "code",
   "execution_count": null,
   "id": "e6b16790",
   "metadata": {},
   "outputs": [],
   "source": []
  },
  {
   "cell_type": "markdown",
   "id": "43d79199",
   "metadata": {},
   "source": [
    "### checking how loan status  relates to annual income of customers "
   ]
  },
  {
   "cell_type": "code",
   "execution_count": 154,
   "id": "599905ad",
   "metadata": {
    "scrolled": true
   },
   "outputs": [
    {
     "data": {
      "image/png": "[encoded data removed]",
      "text/plain": [
       "<Figure size 432x288 with 1 Axes>"
      ]
     },
     "metadata": {
      "needs_background": "light"
     },
     "output_type": "display_data"
    }
   ],
   "source": [
    "sns.barplot(data=df1,x='loan_status',y='annual_income',estimator=np.median)\n",
    "plt.show()"
   ]
  },
  {
   "cell_type": "markdown",
   "id": "9a2ae71b",
   "metadata": {},
   "source": [
    "#### Insight : there is no big difference between charged off and fully paid customers on basis of annual income. \n",
    "#### however it is noticeable that annual income is more towards fully paid customers  "
   ]
  },
  {
   "cell_type": "code",
   "execution_count": null,
   "id": "bebc7561",
   "metadata": {},
   "outputs": [],
   "source": [
    "    "
   ]
  },
  {
   "cell_type": "markdown",
   "id": "2d12477a",
   "metadata": {},
   "source": [
    "### checking the spread of interest rate for fully paid and charged off customers"
   ]
  },
  {
   "cell_type": "code",
   "execution_count": 155,
   "id": "f345596d",
   "metadata": {
    "scrolled": false
   },
   "outputs": [
    {
     "data": {
      "image/png": "[encoded data removed]",
      "text/plain": [
       "<Figure size 720x432 with 1 Axes>"
      ]
     },
     "metadata": {
      "needs_background": "light"
     },
     "output_type": "display_data"
    }
   ],
   "source": [
    "plt.figure(figsize=[10,6])\n",
    "\n",
    "sns.boxplot(df1['loan_status'],df1['int_rate'])\n",
    "\n",
    "plt.show()"
   ]
  },
  {
   "cell_type": "markdown",
   "id": "0e539817",
   "metadata": {},
   "source": [
    "#### Insight : The spread of charged off customers are towards the high interest rate. \n",
    "#### the median off int_rate has a difference of 2.5% interest rate for charged off and fully paid customers"
   ]
  },
  {
   "cell_type": "markdown",
   "id": "e1901244",
   "metadata": {},
   "source": [
    "### checking if increase in monthly installments also increase the spread of charged off customers or not"
   ]
  },
  {
   "cell_type": "code",
   "execution_count": 156,
   "id": "38f1bf27",
   "metadata": {
    "scrolled": true
   },
   "outputs": [
    {
     "data": {
      "image/png": "[encoded data removed]",
      "text/plain": [
       "<Figure size 720x432 with 1 Axes>"
      ]
     },
     "metadata": {
      "needs_background": "light"
     },
     "output_type": "display_data"
    }
   ],
   "source": [
    "plt.figure(figsize=[10,6])\n",
    "\n",
    "sns.boxplot(df1['loan_status'],df1['monthly_installment'])\n",
    "\n",
    "plt.show()"
   ]
  },
  {
   "cell_type": "markdown",
   "id": "82703c16",
   "metadata": {},
   "source": [
    "#### Insight : Number of charged of customers also the median of charged off customers are high when \n",
    "#### there is a increase in amount of monthly installments however the difference is not huge."
   ]
  },
  {
   "cell_type": "code",
   "execution_count": 157,
   "id": "635dbc1d",
   "metadata": {
    "scrolled": true
   },
   "outputs": [
    {
     "data": {
      "text/plain": [
       "Text(0.5, 1.0, 'Spread of employee duration on charged off customers')"
      ]
     },
     "execution_count": 157,
     "metadata": {},
     "output_type": "execute_result"
    },
    {
     "data": {
      "image/png": "[encoded data removed]",
      "text/plain": [
       "<Figure size 360x360 with 1 Axes>"
      ]
     },
     "metadata": {
      "needs_background": "light"
     },
     "output_type": "display_data"
    }
   ],
   "source": [
    "dfc = df1[df1['loan_status'] == \"Charged Off\"]\n",
    "dff = df1[df1['loan_status'] == \"Fully Paid\"]\n",
    "sns.displot(x = 'emp_dur', data = dfc)\n",
    "plt.title(\"Spread of employee duration on charged off customers\",fontdict={'fontsize': 20, 'fontweight' : 20, 'color' : 'Green'})\n"
   ]
  },
  {
   "cell_type": "markdown",
   "id": "adaef065",
   "metadata": {},
   "source": [
    "#### Insight : The spread of employee duration is more for above 10 years is because there should be big chunk \n",
    "#### of employees working for more than 10 yesrs, which includes charged of and fully paid customers.\n",
    "\n",
    "#### However leaving 10+ year, we see employee duration 3 years to 4 years has a slight more chances of defaulting"
   ]
  },
  {
   "cell_type": "markdown",
   "id": "6e8d8cdb",
   "metadata": {},
   "source": [
    "#### Checking relation ship between dti and annual income "
   ]
  },
  {
   "cell_type": "code",
   "execution_count": 158,
   "id": "dcde9a83",
   "metadata": {
    "scrolled": true
   },
   "outputs": [
    {
     "data": {
      "image/png": "[encoded data removed]",
      "text/plain": [
       "<Figure size 432x432 with 3 Axes>"
      ]
     },
     "metadata": {
      "needs_background": "light"
     },
     "output_type": "display_data"
    }
   ],
   "source": [
    "sns.jointplot(\"annual_income\", \"dti\", data=df1, kind=\"reg\")\n",
    "\n",
    "plt.show()"
   ]
  },
  {
   "cell_type": "markdown",
   "id": "3e25ad49",
   "metadata": {},
   "source": [
    "##### Insight : dti is going up till a certain point in the monthly income, once the monthly income reaches particular thershold \n",
    "##### of monthly income dti starts getting down.\n",
    "\n",
    "### Recommendation : \n",
    "###### provide loan to a customer with atleast 10000 monthly income to ensure a customer has a good dti."
   ]
  },
  {
   "cell_type": "code",
   "execution_count": 159,
   "id": "d5c1e9ef",
   "metadata": {
    "scrolled": true
   },
   "outputs": [
    {
     "data": {
      "image/png": "[encoded data removed]",
      "text/plain": [
       "<Figure size 432x432 with 3 Axes>"
      ]
     },
     "metadata": {
      "needs_background": "light"
     },
     "output_type": "display_data"
    }
   ],
   "source": [
    "sns.jointplot(\"annual_income\", \"revol_utilization_rate_2\", data=df1, kind=\"reg\")\n",
    "\n",
    "plt.show()"
   ]
  },
  {
   "cell_type": "markdown",
   "id": "cc019a43",
   "metadata": {},
   "source": [
    "##### Insight : No change observed till a certain monthly income, and post that as the plot \n",
    "#### shows RUR increases with increase in income"
   ]
  },
  {
   "cell_type": "code",
   "execution_count": 160,
   "id": "bb20de50",
   "metadata": {
    "scrolled": true
   },
   "outputs": [
    {
     "data": {
      "text/plain": [
       "<AxesSubplot:xlabel='annual_income', ylabel='dti'>"
      ]
     },
     "execution_count": 160,
     "metadata": {},
     "output_type": "execute_result"
    },
    {
     "data": {
      "image/png": "[encoded data removed]",
      "text/plain": [
       "<Figure size 432x288 with 1 Axes>"
      ]
     },
     "metadata": {
      "needs_background": "light"
     },
     "output_type": "display_data"
    }
   ],
   "source": [
    "sns.histplot(x=\"annual_income\",y= \"dti\", data= df1[df1.loan_status == \"Charged Off\"])"
   ]
  },
  {
   "cell_type": "markdown",
   "id": "55ec3cbe",
   "metadata": {},
   "source": [
    "#### histplot shows with increase in monthly income dti is decreasing "
   ]
  },
  {
   "cell_type": "code",
   "execution_count": 161,
   "id": "dbb9e98d",
   "metadata": {},
   "outputs": [
    {
     "data": {
      "text/html": [
       "<div>\n",
       "<style scoped>\n",
       "    .dataframe tbody tr th:only-of-type {\n",
       "        vertical-align: middle;\n",
       "    }\n",
       "\n",
       "    .dataframe tbody tr th {\n",
       "        vertical-align: top;\n",
       "    }\n",
       "\n",
       "    .dataframe thead th {\n",
       "        text-align: right;\n",
       "    }\n",
       "</style>\n",
       "<table border=\"1\" class=\"dataframe\">\n",
       "  <thead>\n",
       "    <tr style=\"text-align: right;\">\n",
       "      <th></th>\n",
       "      <th>home_ownership</th>\n",
       "      <th>loan_status</th>\n",
       "      <th>0</th>\n",
       "    </tr>\n",
       "  </thead>\n",
       "  <tbody>\n",
       "    <tr>\n",
       "      <th>0</th>\n",
       "      <td>MORTGAGE</td>\n",
       "      <td>Charged Off</td>\n",
       "      <td>2327</td>\n",
       "    </tr>\n",
       "    <tr>\n",
       "      <th>1</th>\n",
       "      <td>MORTGAGE</td>\n",
       "      <td>Fully Paid</td>\n",
       "      <td>14694</td>\n",
       "    </tr>\n",
       "    <tr>\n",
       "      <th>2</th>\n",
       "      <td>NONE</td>\n",
       "      <td>Fully Paid</td>\n",
       "      <td>3</td>\n",
       "    </tr>\n",
       "    <tr>\n",
       "      <th>3</th>\n",
       "      <td>OTHER</td>\n",
       "      <td>Charged Off</td>\n",
       "      <td>18</td>\n",
       "    </tr>\n",
       "    <tr>\n",
       "      <th>4</th>\n",
       "      <td>OTHER</td>\n",
       "      <td>Fully Paid</td>\n",
       "      <td>80</td>\n",
       "    </tr>\n",
       "    <tr>\n",
       "      <th>5</th>\n",
       "      <td>OWN</td>\n",
       "      <td>Charged Off</td>\n",
       "      <td>443</td>\n",
       "    </tr>\n",
       "    <tr>\n",
       "      <th>6</th>\n",
       "      <td>OWN</td>\n",
       "      <td>Fully Paid</td>\n",
       "      <td>2532</td>\n",
       "    </tr>\n",
       "    <tr>\n",
       "      <th>7</th>\n",
       "      <td>RENT</td>\n",
       "      <td>Charged Off</td>\n",
       "      <td>2839</td>\n",
       "    </tr>\n",
       "    <tr>\n",
       "      <th>8</th>\n",
       "      <td>RENT</td>\n",
       "      <td>Fully Paid</td>\n",
       "      <td>15641</td>\n",
       "    </tr>\n",
       "  </tbody>\n",
       "</table>\n",
       "</div>"
      ],
      "text/plain": [
       "  home_ownership  loan_status      0\n",
       "0       MORTGAGE  Charged Off   2327\n",
       "1       MORTGAGE   Fully Paid  14694\n",
       "2           NONE   Fully Paid      3\n",
       "3          OTHER  Charged Off     18\n",
       "4          OTHER   Fully Paid     80\n",
       "5            OWN  Charged Off    443\n",
       "6            OWN   Fully Paid   2532\n",
       "7           RENT  Charged Off   2839\n",
       "8           RENT   Fully Paid  15641"
      ]
     },
     "execution_count": 161,
     "metadata": {},
     "output_type": "execute_result"
    }
   ],
   "source": [
    "df_plot = df1.groupby([\"home_ownership\",\"loan_status\"]).size().reset_index()\n",
    "df_plot"
   ]
  },
  {
   "cell_type": "code",
   "execution_count": 162,
   "id": "7127958b",
   "metadata": {},
   "outputs": [
    {
     "data": {
      "text/html": [
       "<div>\n",
       "<style scoped>\n",
       "    .dataframe tbody tr th:only-of-type {\n",
       "        vertical-align: middle;\n",
       "    }\n",
       "\n",
       "    .dataframe tbody tr th {\n",
       "        vertical-align: top;\n",
       "    }\n",
       "\n",
       "    .dataframe thead th {\n",
       "        text-align: right;\n",
       "    }\n",
       "</style>\n",
       "<table border=\"1\" class=\"dataframe\">\n",
       "  <thead>\n",
       "    <tr style=\"text-align: right;\">\n",
       "      <th>home_ownership</th>\n",
       "      <th>MORTGAGE</th>\n",
       "      <th>NONE</th>\n",
       "      <th>OTHER</th>\n",
       "      <th>OWN</th>\n",
       "      <th>RENT</th>\n",
       "    </tr>\n",
       "    <tr>\n",
       "      <th>loan_status</th>\n",
       "      <th></th>\n",
       "      <th></th>\n",
       "      <th></th>\n",
       "      <th></th>\n",
       "      <th></th>\n",
       "    </tr>\n",
       "  </thead>\n",
       "  <tbody>\n",
       "    <tr>\n",
       "      <th>Charged Off</th>\n",
       "      <td>2327.0</td>\n",
       "      <td>NaN</td>\n",
       "      <td>18.0</td>\n",
       "      <td>443.0</td>\n",
       "      <td>2839.0</td>\n",
       "    </tr>\n",
       "    <tr>\n",
       "      <th>Fully Paid</th>\n",
       "      <td>14694.0</td>\n",
       "      <td>3.0</td>\n",
       "      <td>80.0</td>\n",
       "      <td>2532.0</td>\n",
       "      <td>15641.0</td>\n",
       "    </tr>\n",
       "  </tbody>\n",
       "</table>\n",
       "</div>"
      ],
      "text/plain": [
       "home_ownership  MORTGAGE  NONE  OTHER     OWN     RENT\n",
       "loan_status                                           \n",
       "Charged Off       2327.0   NaN   18.0   443.0   2839.0\n",
       "Fully Paid       14694.0   3.0   80.0  2532.0  15641.0"
      ]
     },
     "execution_count": 162,
     "metadata": {},
     "output_type": "execute_result"
    }
   ],
   "source": [
    "df_plot.pivot(columns=\"home_ownership\",index=\"loan_status\",values=0)"
   ]
  },
  {
   "cell_type": "code",
   "execution_count": 163,
   "id": "e01a6140",
   "metadata": {
    "scrolled": true
   },
   "outputs": [
    {
     "data": {
      "text/plain": [
       "<AxesSubplot:xlabel='home_ownership'>"
      ]
     },
     "execution_count": 163,
     "metadata": {},
     "output_type": "execute_result"
    },
    {
     "data": {
      "image/png": "[encoded data removed]",
      "text/plain": [
       "<Figure size 432x288 with 1 Axes>"
      ]
     },
     "metadata": {
      "needs_background": "light"
     },
     "output_type": "display_data"
    }
   ],
   "source": [
    "pd.crosstab(df1.home_ownership,df1.loan_status).plot.bar()"
   ]
  },
  {
   "cell_type": "markdown",
   "id": "c77b563e",
   "metadata": {},
   "source": [
    "#### above two graph shows customer with mortgage and Rented property have high chances of defaulting\n",
    "\n",
    "##### recommendation : provide loan only if all other criteria matches with positive response and if not then increase the interest rate.\n",
    "#### on the other hand number of fully paid customers also more on Mortgage and Rent so denying also is a not good idea as more profit is given by these home ownership customers. Slight  increase in int rate can balance this situation \n"
   ]
  },
  {
   "cell_type": "code",
   "execution_count": 164,
   "id": "f423630c",
   "metadata": {
    "scrolled": true
   },
   "outputs": [
    {
     "data": {
      "text/plain": [
       "Text(0.5, 1.0, 'Spread of employee duration on fully paid customers')"
      ]
     },
     "execution_count": 164,
     "metadata": {},
     "output_type": "execute_result"
    },
    {
     "data": {
      "text/plain": [
       "<Figure size 1152x720 with 0 Axes>"
      ]
     },
     "metadata": {},
     "output_type": "display_data"
    },
    {
     "data": {
      "image/png": "[encoded data removed]",
      "text/plain": [
       "<Figure size 432x288 with 1 Axes>"
      ]
     },
     "metadata": {
      "needs_background": "light"
     },
     "output_type": "display_data"
    }
   ],
   "source": [
    "plt.figure(figsize=[16,10],)\n",
    "df_plot.pivot(columns=\"home_ownership\",index=\"loan_status\",values=0).plot.bar()\n",
    "plt.title(\"Spread of employee duration on fully paid customers\",fontdict={'fontsize': 20, 'fontweight' : 20, 'color' : 'Green'})"
   ]
  },
  {
   "cell_type": "markdown",
   "id": "5d6bd920",
   "metadata": {},
   "source": [
    "### Spread of term,verification status,grade,employee duration against fully paid and charged off customers"
   ]
  },
  {
   "cell_type": "code",
   "execution_count": 165,
   "id": "396cdaa5",
   "metadata": {},
   "outputs": [
    {
     "data": {
      "text/plain": [
       "<Figure size 864x576 with 0 Axes>"
      ]
     },
     "metadata": {},
     "output_type": "display_data"
    },
    {
     "data": {
      "image/png": "[encoded data removed]",
      "text/plain": [
       "<Figure size 432x288 with 1 Axes>"
      ]
     },
     "metadata": {
      "needs_background": "light"
     },
     "output_type": "display_data"
    },
    {
     "data": {
      "image/png": "[encoded data removed]",
      "text/plain": [
       "<Figure size 432x288 with 1 Axes>"
      ]
     },
     "metadata": {
      "needs_background": "light"
     },
     "output_type": "display_data"
    },
    {
     "data": {
      "image/png": "[encoded data removed]",
      "text/plain": [
       "<Figure size 432x288 with 1 Axes>"
      ]
     },
     "metadata": {
      "needs_background": "light"
     },
     "output_type": "display_data"
    },
    {
     "data": {
      "image/png": "[encoded data removed]",
      "text/plain": [
       "<Figure size 432x288 with 1 Axes>"
      ]
     },
     "metadata": {
      "needs_background": "light"
     },
     "output_type": "display_data"
    }
   ],
   "source": [
    "cat_vars = [\"employment_duration\",\"term\",\"verification_status\",\"grade\",\"emp_dur\",\"purpose\",\"addr_state\"]\n",
    "\n",
    "plt.figure(figsize=(12,8))\n",
    "for i in range(1,5):\n",
    "    pd.crosstab(df1[cat_vars[i]],df1.loan_status).plot.bar()\n",
    "\n",
    "plt.show()"
   ]
  },
  {
   "cell_type": "markdown",
   "id": "35404a9e",
   "metadata": {},
   "source": [
    "## Insight:\n",
    "##### Insight_1: Although with tenure of 36 months there is a slight increase in charged off customers, however\n",
    "##### with 36 months tenure huge number of customers closing the loans successfully compared to 60 months tenure\n",
    "##### Insight_2:Charged off customers are more for not verified customers. \n",
    "##### Insight_3:charged off customers are more on B,C,D Grades\n",
    "####  Insight_4:employee duration 3 years to 4 years has a slight more chances of defaulting\n"
   ]
  },
  {
   "cell_type": "code",
   "execution_count": 166,
   "id": "8381fccb",
   "metadata": {
    "scrolled": false
   },
   "outputs": [],
   "source": [
    "# creating loan_status_Charged Off and loan_status_Fully Paid two columns with true value 1 and false value as 0 .\n",
    "\n",
    "df1 = pd.get_dummies(df1, columns=['loan_status'])\n"
   ]
  },
  {
   "cell_type": "markdown",
   "id": "70cfbb78",
   "metadata": {},
   "source": [
    "### checking frequency of months, dti, revolve utilization  \n"
   ]
  },
  {
   "cell_type": "code",
   "execution_count": 167,
   "id": "909b01a0",
   "metadata": {},
   "outputs": [
    {
     "data": {
      "image/png": "[encoded data removed]",
      "text/plain": [
       "<Figure size 432x288 with 1 Axes>"
      ]
     },
     "metadata": {
      "needs_background": "light"
     },
     "output_type": "display_data"
    }
   ],
   "source": [
    "#dfc is the data frame subset with condition for only charged off customers\n",
    "dfc = df1[df1[\"loan_status_Charged Off\"] == 1]\n",
    "\n",
    "# spread of issued month for charged off customers\n",
    "sns.kdeplot(x = 'issued_month', data = dfc, shade = True)\n",
    "\n",
    "plt.show()"
   ]
  },
  {
   "cell_type": "markdown",
   "id": "10458f02",
   "metadata": {},
   "source": [
    "##### insight : spread of customers getting the loan and defaulting in the month of Nov and dec is more"
   ]
  },
  {
   "cell_type": "code",
   "execution_count": 168,
   "id": "7b11c3c5",
   "metadata": {},
   "outputs": [
    {
     "data": {
      "image/png": "[encoded data removed]",
      "text/plain": [
       "<Figure size 432x288 with 1 Axes>"
      ]
     },
     "metadata": {
      "needs_background": "light"
     },
     "output_type": "display_data"
    }
   ],
   "source": [
    "# spread of revol utilization rate for charged off customers \n",
    "\n",
    "sns.kdeplot(x = 'revol_utilization_rate_2', data = dfc, shade = True)\n",
    "\n",
    "plt.show()"
   ]
  },
  {
   "cell_type": "markdown",
   "id": "d458b2e7",
   "metadata": {},
   "source": [
    "##### insight the density of  charged off customer's revolve utilization rate  is more around  60 to 80"
   ]
  },
  {
   "cell_type": "code",
   "execution_count": 169,
   "id": "44ece7f2",
   "metadata": {},
   "outputs": [
    {
     "data": {
      "image/png": "[encoded data removed]",
      "text/plain": [
       "<Figure size 432x288 with 1 Axes>"
      ]
     },
     "metadata": {
      "needs_background": "light"
     },
     "output_type": "display_data"
    }
   ],
   "source": [
    "# spread of dti for charged off customers\n",
    "\n",
    "sns.kdeplot(x = 'dti', data = dfc, shade = True)\n",
    "\n",
    "plt.show()"
   ]
  },
  {
   "cell_type": "markdown",
   "id": "e065083e",
   "metadata": {},
   "source": [
    "##### insight: the density of  charged off customer's dti is more around 13 to 18\n"
   ]
  },
  {
   "cell_type": "code",
   "execution_count": null,
   "id": "95c9301d",
   "metadata": {},
   "outputs": [],
   "source": []
  },
  {
   "cell_type": "markdown",
   "id": "ee917536",
   "metadata": {},
   "source": [
    "### Comparing funded amount investment bucket for charged off customer "
   ]
  },
  {
   "cell_type": "code",
   "execution_count": 170,
   "id": "da13b3cd",
   "metadata": {
    "scrolled": true
   },
   "outputs": [
    {
     "data": {
      "image/png": "[encoded data removed]",
      "text/plain": [
       "<Figure size 432x288 with 1 Axes>"
      ]
     },
     "metadata": {
      "needs_background": "light"
     },
     "output_type": "display_data"
    }
   ],
   "source": [
    "df1.groupby([\"funded_amnt_inv_bucket\"])[\"loan_status_Charged Off\"].sum().plot.bar()\n",
    "plt.show()"
   ]
  },
  {
   "cell_type": "markdown",
   "id": "377dd911",
   "metadata": {},
   "source": [
    "##### Insight : Very high funded customers are prone to charge off"
   ]
  },
  {
   "cell_type": "markdown",
   "id": "12da501f",
   "metadata": {},
   "source": [
    "### Comparing interest rate bucket for charged off customer "
   ]
  },
  {
   "cell_type": "code",
   "execution_count": 171,
   "id": "e4836be0",
   "metadata": {
    "scrolled": true
   },
   "outputs": [
    {
     "data": {
      "image/png": "[encoded data removed]",
      "text/plain": [
       "<Figure size 432x288 with 1 Axes>"
      ]
     },
     "metadata": {
      "needs_background": "light"
     },
     "output_type": "display_data"
    }
   ],
   "source": [
    "df1.groupby([\"int_rate_Bucket\"])[\"loan_status_Charged Off\"].sum().plot.bar()\n",
    "plt.show()"
   ]
  },
  {
   "cell_type": "markdown",
   "id": "dc446edd",
   "metadata": {},
   "source": [
    "##### Insight : Very high and high interest customers are prone to charge off\n",
    "\n",
    "##### also it is noticeable that increase in interest rate increase charge off customers  "
   ]
  },
  {
   "cell_type": "markdown",
   "id": "5dc0b88b",
   "metadata": {},
   "source": [
    "### Comparing annual income bucket for charged off customer "
   ]
  },
  {
   "cell_type": "code",
   "execution_count": 172,
   "id": "5e2d8b67",
   "metadata": {
    "scrolled": false
   },
   "outputs": [
    {
     "data": {
      "image/png": "[encoded data removed]",
      "text/plain": [
       "<Figure size 432x288 with 1 Axes>"
      ]
     },
     "metadata": {
      "needs_background": "light"
     },
     "output_type": "display_data"
    }
   ],
   "source": [
    "df1.groupby([\"annual_income_bucket\"])[\"loan_status_Charged Off\"].sum().plot.bar()\n",
    "plt.show()"
   ]
  },
  {
   "cell_type": "markdown",
   "id": "125bf0b1",
   "metadata": {},
   "source": [
    "#### Insight: Very low income category has (less than 10000) chances of defaulting "
   ]
  },
  {
   "cell_type": "markdown",
   "id": "5b5fa61c",
   "metadata": {},
   "source": [
    "### Comparing employment duration for charged off customer "
   ]
  },
  {
   "cell_type": "code",
   "execution_count": 173,
   "id": "a6f6c981",
   "metadata": {
    "scrolled": false
   },
   "outputs": [
    {
     "data": {
      "image/png": "[encoded data removed]",
      "text/plain": [
       "<Figure size 432x288 with 1 Axes>"
      ]
     },
     "metadata": {
      "needs_background": "light"
     },
     "output_type": "display_data"
    }
   ],
   "source": [
    "df1.groupby([\"employment_duration\"])[\"loan_status_Charged Off\"].sum().plot.bar()\n",
    "plt.show()"
   ]
  },
  {
   "cell_type": "markdown",
   "id": "fc112131",
   "metadata": {},
   "source": [
    "#### Insight : less than 1 year , and 2 and 3 years of employment has high risk of defaulting"
   ]
  },
  {
   "cell_type": "markdown",
   "id": "2844ae13",
   "metadata": {},
   "source": [
    "### Comparing purpose for charged off customer "
   ]
  },
  {
   "cell_type": "code",
   "execution_count": 174,
   "id": "37a971a3",
   "metadata": {
    "scrolled": true
   },
   "outputs": [
    {
     "data": {
      "image/png": "[encoded data removed]",
      "text/plain": [
       "<Figure size 432x288 with 1 Axes>"
      ]
     },
     "metadata": {
      "needs_background": "light"
     },
     "output_type": "display_data"
    }
   ],
   "source": [
    "df1.groupby([\"purpose\"])[\"loan_status_Charged Off\"].sum().plot.bar()\n",
    "plt.show()"
   ]
  },
  {
   "cell_type": "markdown",
   "id": "a1185ea0",
   "metadata": {},
   "source": [
    "#### Insight : customers taken loan for debt consolidation has very high chances off defaulting "
   ]
  },
  {
   "cell_type": "markdown",
   "id": "ae9aaf94",
   "metadata": {},
   "source": [
    "### Comparing states for charged off customer "
   ]
  },
  {
   "cell_type": "code",
   "execution_count": 175,
   "id": "ace2b2dc",
   "metadata": {},
   "outputs": [
    {
     "data": {
      "image/png": "[encoded data removed]",
      "text/plain": [
       "<Figure size 864x432 with 1 Axes>"
      ]
     },
     "metadata": {
      "needs_background": "light"
     },
     "output_type": "display_data"
    }
   ],
   "source": [
    "plt.figure(figsize=[12,6])\n",
    "\n",
    "df1.groupby([\"addr_state\"])[\"loan_status_Charged Off\"].sum().plot.bar()\n",
    "\n",
    "plt.show()"
   ]
  },
  {
   "cell_type": "markdown",
   "id": "96af9316",
   "metadata": {},
   "source": [
    "#### Insight :Customers from addres State CA,FL,NY has high chances of defaulting. Specially customers from CA has very high chance "
   ]
  },
  {
   "cell_type": "markdown",
   "id": "f69734b4",
   "metadata": {},
   "source": [
    "### Comparing two categorical columns (home_ownership and verification_status) for bivariate analysis on charge off customers"
   ]
  },
  {
   "cell_type": "code",
   "execution_count": 176,
   "id": "1c4b5ce5",
   "metadata": {
    "scrolled": true
   },
   "outputs": [
    {
     "data": {
      "text/html": [
       "<div>\n",
       "<style scoped>\n",
       "    .dataframe tbody tr th:only-of-type {\n",
       "        vertical-align: middle;\n",
       "    }\n",
       "\n",
       "    .dataframe tbody tr th {\n",
       "        vertical-align: top;\n",
       "    }\n",
       "\n",
       "    .dataframe thead th {\n",
       "        text-align: right;\n",
       "    }\n",
       "</style>\n",
       "<table border=\"1\" class=\"dataframe\">\n",
       "  <thead>\n",
       "    <tr style=\"text-align: right;\">\n",
       "      <th>home_ownership</th>\n",
       "      <th>MORTGAGE</th>\n",
       "      <th>NONE</th>\n",
       "      <th>OTHER</th>\n",
       "      <th>OWN</th>\n",
       "      <th>RENT</th>\n",
       "    </tr>\n",
       "    <tr>\n",
       "      <th>verification_status</th>\n",
       "      <th></th>\n",
       "      <th></th>\n",
       "      <th></th>\n",
       "      <th></th>\n",
       "      <th></th>\n",
       "    </tr>\n",
       "  </thead>\n",
       "  <tbody>\n",
       "    <tr>\n",
       "      <th>Not Verified</th>\n",
       "      <td>836.0</td>\n",
       "      <td>0.0</td>\n",
       "      <td>10.0</td>\n",
       "      <td>187.0</td>\n",
       "      <td>1109.0</td>\n",
       "    </tr>\n",
       "    <tr>\n",
       "      <th>Source Verified</th>\n",
       "      <td>489.0</td>\n",
       "      <td>NaN</td>\n",
       "      <td>1.0</td>\n",
       "      <td>117.0</td>\n",
       "      <td>827.0</td>\n",
       "    </tr>\n",
       "    <tr>\n",
       "      <th>Verified</th>\n",
       "      <td>1002.0</td>\n",
       "      <td>NaN</td>\n",
       "      <td>7.0</td>\n",
       "      <td>139.0</td>\n",
       "      <td>903.0</td>\n",
       "    </tr>\n",
       "  </tbody>\n",
       "</table>\n",
       "</div>"
      ],
      "text/plain": [
       "home_ownership       MORTGAGE  NONE  OTHER    OWN    RENT\n",
       "verification_status                                      \n",
       "Not Verified            836.0   0.0   10.0  187.0  1109.0\n",
       "Source Verified         489.0   NaN    1.0  117.0   827.0\n",
       "Verified               1002.0   NaN    7.0  139.0   903.0"
      ]
     },
     "execution_count": 176,
     "metadata": {},
     "output_type": "execute_result"
    }
   ],
   "source": [
    "pldf_4 = pd.pivot_table(data=df1,index=\"verification_status\",columns=\"home_ownership\",values=\"loan_status_Charged Off\",\n",
    "                       aggfunc=np.sum)\n",
    "pldf_4 "
   ]
  },
  {
   "cell_type": "code",
   "execution_count": 177,
   "id": "2150bdee",
   "metadata": {
    "scrolled": true
   },
   "outputs": [
    {
     "data": {
      "image/png": "[encoded data removed]",
      "text/plain": [
       "<Figure size 432x288 with 2 Axes>"
      ]
     },
     "metadata": {
      "needs_background": "light"
     },
     "output_type": "display_data"
    }
   ],
   "source": [
    "sns.heatmap(pldf_4,cmap = \"Greens\")\n",
    "plt.show()"
   ]
  },
  {
   "cell_type": "markdown",
   "id": "b136d90a",
   "metadata": {},
   "source": [
    "#### Insight: Verified Mortgage owners are defaulting on the loan more following not verified Mortgage owners. \n",
    "#### Not verified Rent owners are prone to default more.\n",
    "#### Own house owners tends to default very less"
   ]
  },
  {
   "cell_type": "markdown",
   "id": "99c90257",
   "metadata": {},
   "source": [
    "### Comparing three categorical columns (int_rate_Bucket and annual_income_bucket) for  analysis on loan_status_Charged Off customers"
   ]
  },
  {
   "cell_type": "code",
   "execution_count": 178,
   "id": "f4a169af",
   "metadata": {
    "scrolled": true
   },
   "outputs": [
    {
     "data": {
      "text/html": [
       "<div>\n",
       "<style scoped>\n",
       "    .dataframe tbody tr th:only-of-type {\n",
       "        vertical-align: middle;\n",
       "    }\n",
       "\n",
       "    .dataframe tbody tr th {\n",
       "        vertical-align: top;\n",
       "    }\n",
       "\n",
       "    .dataframe thead th {\n",
       "        text-align: right;\n",
       "    }\n",
       "</style>\n",
       "<table border=\"1\" class=\"dataframe\">\n",
       "  <thead>\n",
       "    <tr style=\"text-align: right;\">\n",
       "      <th>annual_income_bucket</th>\n",
       "      <th>VL_income_1</th>\n",
       "      <th>VL_income_2</th>\n",
       "      <th>L_income_1</th>\n",
       "      <th>L_income_2</th>\n",
       "      <th>M_income_1</th>\n",
       "      <th>M_income_2</th>\n",
       "      <th>H_income_1</th>\n",
       "      <th>H_income_2</th>\n",
       "      <th>VH_income_1</th>\n",
       "      <th>VH_income_2</th>\n",
       "    </tr>\n",
       "    <tr>\n",
       "      <th>int_rate_Bucket</th>\n",
       "      <th></th>\n",
       "      <th></th>\n",
       "      <th></th>\n",
       "      <th></th>\n",
       "      <th></th>\n",
       "      <th></th>\n",
       "      <th></th>\n",
       "      <th></th>\n",
       "      <th></th>\n",
       "      <th></th>\n",
       "    </tr>\n",
       "  </thead>\n",
       "  <tbody>\n",
       "    <tr>\n",
       "      <th>VL_int</th>\n",
       "      <td>78</td>\n",
       "      <td>63</td>\n",
       "      <td>59</td>\n",
       "      <td>50</td>\n",
       "      <td>49</td>\n",
       "      <td>35</td>\n",
       "      <td>32</td>\n",
       "      <td>29</td>\n",
       "      <td>16</td>\n",
       "      <td>18</td>\n",
       "    </tr>\n",
       "    <tr>\n",
       "      <th>L_int</th>\n",
       "      <td>155</td>\n",
       "      <td>92</td>\n",
       "      <td>106</td>\n",
       "      <td>87</td>\n",
       "      <td>86</td>\n",
       "      <td>77</td>\n",
       "      <td>72</td>\n",
       "      <td>66</td>\n",
       "      <td>63</td>\n",
       "      <td>51</td>\n",
       "    </tr>\n",
       "    <tr>\n",
       "      <th>M_int</th>\n",
       "      <td>181</td>\n",
       "      <td>115</td>\n",
       "      <td>123</td>\n",
       "      <td>103</td>\n",
       "      <td>99</td>\n",
       "      <td>107</td>\n",
       "      <td>80</td>\n",
       "      <td>94</td>\n",
       "      <td>56</td>\n",
       "      <td>62</td>\n",
       "    </tr>\n",
       "    <tr>\n",
       "      <th>H_int</th>\n",
       "      <td>219</td>\n",
       "      <td>150</td>\n",
       "      <td>144</td>\n",
       "      <td>149</td>\n",
       "      <td>120</td>\n",
       "      <td>129</td>\n",
       "      <td>116</td>\n",
       "      <td>108</td>\n",
       "      <td>94</td>\n",
       "      <td>82</td>\n",
       "    </tr>\n",
       "    <tr>\n",
       "      <th>VH_int</th>\n",
       "      <td>206</td>\n",
       "      <td>154</td>\n",
       "      <td>195</td>\n",
       "      <td>203</td>\n",
       "      <td>207</td>\n",
       "      <td>240</td>\n",
       "      <td>218</td>\n",
       "      <td>213</td>\n",
       "      <td>160</td>\n",
       "      <td>216</td>\n",
       "    </tr>\n",
       "  </tbody>\n",
       "</table>\n",
       "</div>"
      ],
      "text/plain": [
       "annual_income_bucket  VL_income_1  VL_income_2  L_income_1  L_income_2  \\\n",
       "int_rate_Bucket                                                          \n",
       "VL_int                         78           63          59          50   \n",
       "L_int                         155           92         106          87   \n",
       "M_int                         181          115         123         103   \n",
       "H_int                         219          150         144         149   \n",
       "VH_int                        206          154         195         203   \n",
       "\n",
       "annual_income_bucket  M_income_1  M_income_2  H_income_1  H_income_2  \\\n",
       "int_rate_Bucket                                                        \n",
       "VL_int                        49          35          32          29   \n",
       "L_int                         86          77          72          66   \n",
       "M_int                         99         107          80          94   \n",
       "H_int                        120         129         116         108   \n",
       "VH_int                       207         240         218         213   \n",
       "\n",
       "annual_income_bucket  VH_income_1  VH_income_2  \n",
       "int_rate_Bucket                                 \n",
       "VL_int                         16           18  \n",
       "L_int                          63           51  \n",
       "M_int                          56           62  \n",
       "H_int                          94           82  \n",
       "VH_int                        160          216  "
      ]
     },
     "execution_count": 178,
     "metadata": {},
     "output_type": "execute_result"
    }
   ],
   "source": [
    "pldf_2 = pd.pivot_table(data=df1,index=\"int_rate_Bucket\",columns=\"annual_income_bucket\",values=\"loan_status_Charged Off\",aggfunc=np.sum)\n",
    "pldf_2"
   ]
  },
  {
   "cell_type": "code",
   "execution_count": 179,
   "id": "de7c26cb",
   "metadata": {
    "scrolled": true
   },
   "outputs": [
    {
     "data": {
      "image/png": "[encoded data removed]",
      "text/plain": [
       "<Figure size 1152x648 with 2 Axes>"
      ]
     },
     "metadata": {
      "needs_background": "light"
     },
     "output_type": "display_data"
    }
   ],
   "source": [
    "plt.figure(figsize=[16,9])\n",
    "\n",
    "sns.heatmap(pldf_2,cmap = \"Reds\", annot=True)\n",
    "plt.show()"
   ]
  },
  {
   "cell_type": "markdown",
   "id": "02800beb",
   "metadata": {},
   "source": [
    "#### Insight : with very high interest almost all category of income seems to be acting high for charge off customers.\n",
    "#### with high and very high interest and with Very low  and low income range customers are failing to close loan successfully.\n",
    "#### if income decreases and interset rate rises customers will default .  "
   ]
  },
  {
   "cell_type": "markdown",
   "id": "677f1db0",
   "metadata": {},
   "source": [
    "### Comparing three categorical columns (int_rate_Bucket and term) for  analysis on loan_status_Charged Off customers"
   ]
  },
  {
   "cell_type": "code",
   "execution_count": 180,
   "id": "334ae3c3",
   "metadata": {},
   "outputs": [
    {
     "data": {
      "text/html": [
       "<div>\n",
       "<style scoped>\n",
       "    .dataframe tbody tr th:only-of-type {\n",
       "        vertical-align: middle;\n",
       "    }\n",
       "\n",
       "    .dataframe tbody tr th {\n",
       "        vertical-align: top;\n",
       "    }\n",
       "\n",
       "    .dataframe thead th {\n",
       "        text-align: right;\n",
       "    }\n",
       "</style>\n",
       "<table border=\"1\" class=\"dataframe\">\n",
       "  <thead>\n",
       "    <tr style=\"text-align: right;\">\n",
       "      <th>int_rate_Bucket</th>\n",
       "      <th>VL_int</th>\n",
       "      <th>L_int</th>\n",
       "      <th>M_int</th>\n",
       "      <th>H_int</th>\n",
       "      <th>VH_int</th>\n",
       "    </tr>\n",
       "    <tr>\n",
       "      <th>term</th>\n",
       "      <th></th>\n",
       "      <th></th>\n",
       "      <th></th>\n",
       "      <th></th>\n",
       "      <th></th>\n",
       "    </tr>\n",
       "  </thead>\n",
       "  <tbody>\n",
       "    <tr>\n",
       "      <th>36</th>\n",
       "      <td>402.0</td>\n",
       "      <td>656.0</td>\n",
       "      <td>701.0</td>\n",
       "      <td>842.0</td>\n",
       "      <td>626.0</td>\n",
       "    </tr>\n",
       "    <tr>\n",
       "      <th>60</th>\n",
       "      <td>27.0</td>\n",
       "      <td>199.0</td>\n",
       "      <td>319.0</td>\n",
       "      <td>469.0</td>\n",
       "      <td>1386.0</td>\n",
       "    </tr>\n",
       "  </tbody>\n",
       "</table>\n",
       "</div>"
      ],
      "text/plain": [
       "int_rate_Bucket  VL_int  L_int  M_int  H_int  VH_int\n",
       "term                                                \n",
       "36                402.0  656.0  701.0  842.0   626.0\n",
       "60                 27.0  199.0  319.0  469.0  1386.0"
      ]
     },
     "execution_count": 180,
     "metadata": {},
     "output_type": "execute_result"
    }
   ],
   "source": [
    "pldf_7 = pd.pivot_table(data=df1,index=\"term\",columns=\"int_rate_Bucket\",values=\"loan_status_Charged Off\",aggfunc=np.sum)\n",
    "pldf_7"
   ]
  },
  {
   "cell_type": "code",
   "execution_count": 181,
   "id": "61bc8b0d",
   "metadata": {},
   "outputs": [
    {
     "data": {
      "image/png": "[encoded data removed]",
      "text/plain": [
       "<Figure size 720x432 with 2 Axes>"
      ]
     },
     "metadata": {
      "needs_background": "light"
     },
     "output_type": "display_data"
    }
   ],
   "source": [
    "plt.figure(figsize=[10,6])\n",
    "\n",
    "sns.heatmap(pldf_7,cmap = \"Greens\", annot=True)\n",
    "\n",
    "plt.show()"
   ]
  },
  {
   "cell_type": "markdown",
   "id": "4c88bae5",
   "metadata": {},
   "source": [
    "##### Insight : This is noticeable Very high interest with 60 months tenure tends to make customers default more"
   ]
  },
  {
   "cell_type": "markdown",
   "id": "88c7170a",
   "metadata": {},
   "source": [
    "## Recommendations: ##\n",
    "##### Funding huge amount with high interest to applicants with low income (less than 10000) will not be a good idea.\n",
    "##### Try to avoid customers who requires loan for debt consolidation purpose.\n",
    "##### If providing loan to rented applicants need to complete the verifications as a must.\n",
    "##### Applicants with low-income categories should not have huge interest rates if required need to reduce the funding amount.\n",
    "##### Grades are good metric for detecting defaulters. Lending club should examine more information from borrowers before issuing loans to low grades (G to A).\n",
    "##### Although with tenure of 36 months there is a slight increase in charged off customers, however with 36 months tenure huge number of customers closing the loans successfully compared to 60 months tenure. So we should be increasing the interest for 36 months tenure.\n",
    "##### Try to avoid customers who are from state CA. if needed decrease funding amount or do an fix Deposit at the same time for being in safe side. \n",
    "##### We have noticed high income makes the DTI low so , focusing on good monthly income is always a good idea.\n",
    "##### Providing loan to applicants whose employment is less than 2 years it’s a good idea to increase interest rate if not possible provide loan with lesser funding.\n",
    "##### For less employment duration, lesser monthly income and low grades applicants it’s a good idea to get the principal amount in the initial instalments first so we can have less chances of loss. \n"
   ]
  },
  {
   "cell_type": "code",
   "execution_count": 182,
   "id": "d8e00299",
   "metadata": {
    "collapsed": true
   },
   "outputs": [
    {
     "ename": "SyntaxError",
     "evalue": "invalid syntax (<ipython-input-182-2ac58eb54261>, line 1)",
     "output_type": "error",
     "traceback": [
      "\u001b[1;36m  File \u001b[1;32m\"<ipython-input-182-2ac58eb54261>\"\u001b[1;36m, line \u001b[1;32m1\u001b[0m\n\u001b[1;33m    ============================================================================================\u001b[0m\n\u001b[1;37m    ^\u001b[0m\n\u001b[1;31mSyntaxError\u001b[0m\u001b[1;31m:\u001b[0m invalid syntax\n"
     ]
    }
   ],
   "source": [
    "============================================================================================"
   ]
  },
  {
   "cell_type": "markdown",
   "id": "c78ad453",
   "metadata": {},
   "source": [
    "### xxxxxxxxxxxxxxxxxxxxxxxxxxxxxxxx=== END ===xxxxxxxxxxxxxxxxxxxxxxxxxxxxxxxxxxxxxxx"
   ]
  },
  {
   "cell_type": "code",
   "execution_count": null,
   "id": "8a7710f6",
   "metadata": {},
   "outputs": [],
   "source": []
  }
 ],
 "metadata": {
  "kernelspec": {
   "display_name": "Python 3",
   "language": "python",
   "name": "python3"
  },
  "language_info": {
   "codemirror_mode": {
    "name": "ipython",
    "version": 3
   },
   "file_extension": ".py",
   "mimetype": "text/x-python",
   "name": "python",
   "nbconvert_exporter": "python",
   "pygments_lexer": "ipython3",
   "version": "3.8.8"
  }
 },
 "nbformat": 4,
 "nbformat_minor": 5
}
